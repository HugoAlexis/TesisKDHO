{
 "cells": [
  {
   "cell_type": "markdown",
   "metadata": {},
   "source": [
    "# **Termodinamica del oscilador armónico pateado clasico**"
   ]
  },
  {
   "cell_type": "markdown",
   "metadata": {},
   "source": [
    "## Oscilador armonico pateado\n",
    "\n",
    "El oscilador armonico pateado es un sistema que esta descrito por el hamiltoniano siguiente:\n",
    "\n",
    "$$H = \\frac {P^2}{2m} + \\frac{m\\omega^2 X^2}{2} + \\frac{\\kappa}{\\sqrt{2}\\eta^2} \\cos (\\sqrt{2}\\eta X) \\sum_n\\delta(t - n\\tau_k).$$\n",
    "\n",
    "Tomamos las variables X y P como:\n",
    "\n",
    "$$X = \\sqrt{\\frac{\\hbar}{m\\omega}}x, \\verb|     | P = \\sqrt{\\hbar m \\omega}p,$$\n",
    "\n",
    "con lo que obtenemos:\n",
    "\n",
    "$$H = \\hbar\\omega\\left( \\frac{p^2}{2} + \\frac{x^2}{2} \\right) + \\frac{\\kappa}{\\sqrt{2}\\eta^2}\\cos \\left( \\sqrt{\\frac{2\\hbar}{m\\omega}}\\eta x \\right)\\sum_n\\delta(t-n\\tau_k)$$\n",
    "\n",
    "Tomamos tambien la variable $\\tau$ como:\n",
    "\n",
    "$$\\tau = \\omega t,$$\n",
    "\n",
    "Por lo que escribimos finalmente el hamiltoniano de la siguiente forma:\n",
    "\n",
    "$$H = \\hbar\\omega\\left( \\frac{p^2}{2} + \\frac{x^2}{2} \\right) + \\frac{\\kappa}{\\sqrt{2}\\eta^2}\\cos \\left( \\sqrt{\\frac{2\\hbar}{m\\omega}}\\eta x \\right)\\sum_n\\delta\\left(\\frac{\\tau}{\\omega}-n\\tau_k\\right)$$"
   ]
  },
  {
   "cell_type": "markdown",
   "metadata": {},
   "source": [
    "## Osilador armonico pateado acoplado al reservorio termico\n",
    "Al considerar el sistema en un reservorio termico, ya no podemos utilizar el hamiltoniano anterior, debido al intercambio de energia entre el sistema y el reservorio.\n",
    "\n",
    "En su lugar, consideramos la evolucion del sistema en dos partes: el  efecto de las patadas (que es instantaneo), y la evolucion durante el tiempo de relajamiento entre estas.\n",
    "\n",
    "### **Efecto de las patadas**\n",
    "Debido a que las patadas son instantaneas, podemos ignorar el intercambio de energia entre el sistema y el reservorio por un instante de tiempo arbitrariamente pequeno y utilizar el hamiltoniano anterior."
   ]
  },
  {
   "cell_type": "markdown",
   "metadata": {},
   "source": [
    "Utilizamos las ecuaciones de Hamilon para encontrar $\\Delta P$ durante la n-esima patada.\n",
    "\n",
    "$$\\dot{x} = \\frac{\\partial H}{\\partial p}, \\verb|      | \\dot{p} = -\\frac{\\partial H}{\\partial x}.$$\n",
    "\n",
    "$$\\Rightarrow \\verb|     | \\dot{p} = -\\hbar\\omega x + \\frac{\\kappa}{\\eta} \\sqrt{\\frac{\\hbar}{m\\omega}} \\sin\\left( \\sqrt{\\frac{2\\hbar}{m\\omega}}\\eta x \\right) \\sum_n \\delta(t-n\\tau)$$\n",
    "\n",
    "Resolvemos para el intervalo de $t = n\\tau - \\epsilon$ a $t = n\\tau + \\epsilon$ y obtenemos el limite $\\epsilon \\rightarrow 0$ \n",
    "\n",
    "$$\\Delta p = \\int_{n\\tau - \\epsilon}^{n\\tau - \\epsilon} \\left[-\\hbar\\omega x + \\frac{\\kappa}{\\eta} \\sqrt{\\frac{\\hbar}{m\\omega}} \\sin\\left( \\sqrt{\\frac{2\\hbar}{m\\omega}}\\eta x \\right) \\sum_n \\delta(t-n\\tau) \\right]dt$$\n",
    "\n",
    "considerando que\n",
    "\n",
    "$$\\int_{n\\tau - \\epsilon}^{n\\tau + \\epsilon} \\sum_n \\delta(t - n\\tau) dt= 1$$\n",
    "\n",
    "obtenemos:\n",
    "\n",
    "$$\\Delta p = \\frac{\\kappa}{\\eta}\\sqrt{\\frac{\\hbar}{m\\omega}} \\sin \\left(\\sqrt{\\frac{2\\hbar}{m\\omega}} \\eta x \\right)$$"
   ]
  },
  {
   "cell_type": "markdown",
   "metadata": {},
   "source": [
    "### **Efecto del reservorio termico**\n",
    "Para la evolucion del sistema entre las patadas, la dinamica del sistema esta descrita por la ecuacion de Langevin:\n",
    "\n",
    "$$\\frac{d^2X}{dt^2} + \\frac{\\gamma}{m}\\frac{dX}{dt} + \\omega^2 X = \\frac{1}{m}\\eta_T$$.\n",
    "\n",
    "Haciendo los cambios de variable anteriores para X y P, obtenemos:\n",
    "\n",
    "$$\\frac{d^2x}{dt^2} + \\frac{\\gamma}{m}\\frac{dx}{dt} + \\omega^2 x = \\sqrt{\\frac{\\omega}{m\\hbar}} \\eta_T$$\n"
   ]
  },
  {
   "cell_type": "markdown",
   "metadata": {},
   "source": [
    "Tomamos ahora la variable $\\tau = \\omega t$, de forma que:\n",
    "\n",
    "$$\\frac{dx}{d\\tau} = \\frac{dx}{dt}\\frac{dt}{d\\tau}\n",
    "= \\frac{1}{\\omega}\\frac{dx}{dt}$$\n",
    "\n",
    "\\begin{eqnarray}\n",
    "\\Rightarrow \\verb|    |& \\frac{dx}{dt} & = & \\omega\\frac{dx}{d\\tau} \\\\\n",
    "& \\frac{d^2}{dt^2} & = & \\omega^2\\frac{d^2 x}{d\\tau^2}\n",
    "\\end{eqnarray}\n",
    "\n"
   ]
  },
  {
   "cell_type": "markdown",
   "metadata": {},
   "source": [
    "Por lo que la ecuacion de Langevin queda escrita como:\n",
    "\n",
    "$$\\frac{d^2x}{d\\tau^2} + \\frac{\\gamma}{m\\omega}\\frac{dx}{d\\tau} + x = \\frac{1}{\\omega} \\sqrt{\\frac{1}{m\\omega\\hbar}}\\eta_T.$$"
   ]
  },
  {
   "cell_type": "markdown",
   "metadata": {},
   "source": [
    "Podemos escribir esta ecuacion diferencial como un sistema de ecuaciones diferenciales de primer orden:"
   ]
  },
  {
   "cell_type": "markdown",
   "metadata": {},
   "source": [
    "\n",
    "$$\n",
    "\\begin{bmatrix}\n",
    "x \\\\ p\n",
    "\\end{bmatrix}' = \n",
    "\\begin{bmatrix}\n",
    "0 & 1 \\\\\n",
    "-1 & -\\frac{\\gamma}{m\\omega}\n",
    "\\end{bmatrix}\n",
    "\\begin{bmatrix}\n",
    "x \\\\ p\n",
    "\\end{bmatrix} \n",
    "+\n",
    "\\begin{bmatrix}\n",
    "0 \\\\ \\eta_T\\frac{1}{\\omega}\\sqrt{\\frac{1}{m\\omega\\hbar}}\n",
    "\\end{bmatrix}.\n",
    "$$\n"
   ]
  },
  {
   "cell_type": "markdown",
   "metadata": {},
   "source": [
    "### Termino de la patada aleatoria\n",
    "Para resolver la ecuacion anterior, utilizamos el metodo de Euler–Maruyama para ecuaciones estocasticas.\n",
    "\n",
    "El termino de la patada aleatorio $\\eta_T$ es una variable aleatoria con distribucion normal, y esta dada por:\n",
    "\n",
    "$$\\langle \\eta_T(t) \\eta_T(t') \\rangle = 2\\gamma k_B T \\delta(t-t')$$"
   ]
  },
  {
   "cell_type": "markdown",
   "metadata": {},
   "source": [
    "Introducimos la variable aleatoria $x_j$, con distribucion noral con $\\langle x_j^2 \\rangle=1$,\n",
    "\n",
    "$$\\langle \\eta_T(t) x(t) \\eta_T(t') x(t') \\rangle = 2\\gamma k_B T \\delta(t-t')$$"
   ]
  },
  {
   "cell_type": "markdown",
   "metadata": {},
   "source": [
    "$$\\int\\eta_T^2x(t)x(t')dt' = \\eta_T^2x_j\\sum_jx_k\\Delta t = \\eta_T^2 x_j^2\\Delta t$$ \n",
    "\n",
    "$$\\Rightarrow \\eta_T^2 x_j^2\\Delta t = 2\\gamma k_B T$$.\n",
    "\n",
    "Por lo tanto, \n",
    "$$\\eta_T^2 = \\frac{2\\gamma k_BT}{\\Delta t}$$"
   ]
  },
  {
   "cell_type": "markdown",
   "metadata": {},
   "source": [
    "\n",
    "$$\n",
    "\\begin{bmatrix}\n",
    "x \\\\ p\n",
    "\\end{bmatrix}' = \n",
    "\\begin{bmatrix}\n",
    "0 & 1 \\\\\n",
    "-1 & -\\frac{\\gamma}{m\\omega}\n",
    "\\end{bmatrix}\n",
    "\\begin{bmatrix}\n",
    "x \\\\ p\n",
    "\\end{bmatrix} \n",
    "+\n",
    "\\begin{bmatrix}\n",
    "0 \\\\ \\frac{1}{\\omega}\\sqrt{ 2\\frac{\\gamma}{m}\\frac{k_BT}{\\hbar\\omega}\\frac{1}{\\Delta t} }\n",
    "\\end{bmatrix}.\n",
    "$$"
   ]
  },
  {
   "cell_type": "markdown",
   "metadata": {},
   "source": [
    "Al considerar un sistema de n particulas, obtenemos:\n",
    "    \n",
    "$$\n",
    "\\begin{bmatrix}\n",
    "x_1 & p_1 \\\\\n",
    "x_2 & p_2 \\\\\n",
    "\\vdots & \\vdots \\\\\n",
    "x_n & p_n\n",
    "\\end{bmatrix}' = \n",
    "\\begin{bmatrix}\n",
    "x_1 & p_1 \\\\\n",
    "x_2 & p_2 \\\\\n",
    "\\vdots & \\vdots \\\\\n",
    "x_n & p_n\n",
    "\\end{bmatrix}\n",
    "\\begin{bmatrix}\n",
    "0 & -1\\\\\n",
    "1 & - \\frac{\\gamma}{m\\omega} \n",
    "\\end{bmatrix} +\n",
    "\\begin{bmatrix}\n",
    "0 &  \\eta_T\\frac{1}{\\omega}\\sqrt{2\\frac{\\gamma}{m}\\frac{k_BT}{\\hbar\\omega}\\frac{1}{\\Delta t} }  \\\\\n",
    "0 &  \\eta_T\\frac{1}{\\omega}\\sqrt{2\\frac{\\gamma}{m}\\frac{k_BT}{\\hbar\\omega}\\frac{1}{\\Delta t} } \\\\\n",
    "\\vdots & \\vdots \\\\\n",
    "0 &  \\eta_T\\frac{1}{\\omega}\\sqrt{2\\frac{\\gamma}{m}\\frac{k_BT}{\\hbar\\omega}\\frac{1}{\\Delta t} }\n",
    "\\end{bmatrix}\n",
    "$$"
   ]
  },
  {
   "cell_type": "code",
   "execution_count": null,
   "metadata": {},
   "outputs": [],
   "source": []
  }
 ],
 "metadata": {
  "kernelspec": {
   "display_name": "Python 3",
   "language": "python",
   "name": "python3"
  },
  "language_info": {
   "codemirror_mode": {
    "name": "ipython",
    "version": 3
   },
   "file_extension": ".py",
   "mimetype": "text/x-python",
   "name": "python",
   "nbconvert_exporter": "python",
   "pygments_lexer": "ipython3",
   "version": "3.6.9"
  }
 },
 "nbformat": 4,
 "nbformat_minor": 4
}
